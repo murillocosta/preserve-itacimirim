{
  "nbformat": 4,
  "nbformat_minor": 0,
  "metadata": {
    "colab": {
      "provenance": [],
      "collapsed_sections": [
        "ccM6sauXKtEs",
        "K1kUtX-2Ha9x",
        "hSF65yiQHoOt",
        "AuU__nwCHowA",
        "hN3XrFYWIYO1",
        "DciDK6VvKalr",
        "J8fTIfHZLlcW",
        "gRLXL90fJMlL",
        "geZ6r5YlNtsM",
        "QnF8AN64N5Yl",
        "t4hednUWO8d-",
        "oW1t6hSOPZYp",
        "Mu6QgEf8RQc7",
        "Pr5keqkPRaUu",
        "9DbCT8oJQaTy",
        "qtwx07VaR550",
        "zlXfiiCVF43l",
        "kSpFgiRfGD4Z",
        "QXs5BOnR668j",
        "wEdhRCTjECEQ",
        "b9guCxTDD1kM"
      ],
      "include_colab_link": true
    },
    "kernelspec": {
      "name": "python3",
      "display_name": "Python 3"
    },
    "language_info": {
      "name": "python"
    }
  },
  "cells": [
    {
      "cell_type": "markdown",
      "metadata": {
        "id": "view-in-github",
        "colab_type": "text"
      },
      "source": [
        "<a href=\"https://colab.research.google.com/github/murillocosta/preserve-itacimirim/blob/main/landcoverAnalysis_Camacari2016-2022.ipynb\" target=\"_parent\"><img src=\"https://colab.research.google.com/assets/colab-badge.svg\" alt=\"Open In Colab\"/></a>"
      ]
    },
    {
      "cell_type": "markdown",
      "source": [
        "Instalando biblioteca Geemap"
      ],
      "metadata": {
        "id": "ccM6sauXKtEs"
      }
    },
    {
      "cell_type": "code",
      "source": [
        "!pip install -U geemap"
      ],
      "metadata": {
        "id": "1T8yOU0SKnrK"
      },
      "execution_count": null,
      "outputs": []
    },
    {
      "cell_type": "markdown",
      "source": [
        "Importando das bibliotecas do Earth Engine, Geemap, Pandas"
      ],
      "metadata": {
        "id": "K1kUtX-2Ha9x"
      }
    },
    {
      "cell_type": "code",
      "execution_count": null,
      "metadata": {
        "id": "p9GSVdsVHVvW"
      },
      "outputs": [],
      "source": [
        "import ee\n",
        "import geemap\n",
        "import pandas as pd\n",
        "import matplotlib.pyplot as plt"
      ]
    },
    {
      "cell_type": "markdown",
      "source": [
        "Atenticando no Earth Engine"
      ],
      "metadata": {
        "id": "hSF65yiQHoOt"
      }
    },
    {
      "cell_type": "code",
      "source": [
        "ee.Authenticate()"
      ],
      "metadata": {
        "id": "73IYRpH_HWzb",
        "outputId": "fa5c3560-6ceb-4736-ccdb-5ef338227327",
        "colab": {
          "base_uri": "https://localhost:8080/",
          "height": 176
        }
      },
      "execution_count": null,
      "outputs": [
        {
          "output_type": "display_data",
          "data": {
            "text/plain": [
              "<IPython.core.display.HTML object>"
            ],
            "text/html": [
              "\n",
              "            <style>\n",
              "                .geemap-dark {\n",
              "                    --jp-widgets-color: white;\n",
              "                    --jp-widgets-label-color: white;\n",
              "                    --jp-ui-font-color1: white;\n",
              "                    --jp-layout-color2: #454545;\n",
              "                    background-color: #383838;\n",
              "                }\n",
              "                    \n",
              "                .geemap-dark .jupyter-button {\n",
              "                    --jp-layout-color3: #383838;\n",
              "                }\n",
              "                \n",
              "                .geemap-colab {\n",
              "                    background-color: var(--colab-primary-surface-color, white);\n",
              "                }\n",
              "                    \n",
              "                .geemap-colab .jupyter-button {\n",
              "                    --jp-layout-color3: var(--colab-primary-surface-color, white);\n",
              "                }\n",
              "            </style>\n",
              "            "
            ]
          },
          "metadata": {}
        },
        {
          "output_type": "stream",
          "name": "stdout",
          "text": [
            "To authorize access needed by Earth Engine, open the following URL in a web browser and follow the instructions. If the web browser does not start automatically, please manually browse the URL below.\n",
            "\n",
            "    https://code.earthengine.google.com/client-auth?scopes=https%3A//www.googleapis.com/auth/earthengine%20https%3A//www.googleapis.com/auth/devstorage.full_control&request_id=BjZdeLHE9fSyNg7lfIL5ZNTnW6TkyXSMAyXJpJ0QMMc&tc=dcrvPA9-Eze97dlmEjGJ-sJWhLWxvDgWUDtCxAlOjIQ&cc=S1Jo9mdgsIC00jUoBcjt0Q3MYJMJ3TPb1jco_dILyBA\n",
            "\n",
            "The authorization workflow will generate a code, which you should paste in the box below.\n",
            "Enter verification code: 4/1AfJohXmMJ3HmQe6EwyB1BylAIZAgEHRKRwnmMbMDIErPKS5YX_1r_jBB1EE\n",
            "\n",
            "Successfully saved authorization token.\n"
          ]
        }
      ]
    },
    {
      "cell_type": "markdown",
      "source": [
        "Inicializando o Earth Engine"
      ],
      "metadata": {
        "id": "AuU__nwCHowA"
      }
    },
    {
      "cell_type": "code",
      "source": [
        "ee.Initialize()"
      ],
      "metadata": {
        "colab": {
          "base_uri": "https://localhost:8080/",
          "height": 17
        },
        "id": "86fjOwfNHYtT",
        "outputId": "f1eb5165-25e7-4b72-c462-f27ae1493e00"
      },
      "execution_count": null,
      "outputs": [
        {
          "output_type": "display_data",
          "data": {
            "text/plain": [
              "<IPython.core.display.HTML object>"
            ],
            "text/html": [
              "\n",
              "            <style>\n",
              "                .geemap-dark {\n",
              "                    --jp-widgets-color: white;\n",
              "                    --jp-widgets-label-color: white;\n",
              "                    --jp-ui-font-color1: white;\n",
              "                    --jp-layout-color2: #454545;\n",
              "                    background-color: #383838;\n",
              "                }\n",
              "                    \n",
              "                .geemap-dark .jupyter-button {\n",
              "                    --jp-layout-color3: #383838;\n",
              "                }\n",
              "                \n",
              "                .geemap-colab {\n",
              "                    background-color: var(--colab-primary-surface-color, white);\n",
              "                }\n",
              "                    \n",
              "                .geemap-colab .jupyter-button {\n",
              "                    --jp-layout-color3: var(--colab-primary-surface-color, white);\n",
              "                }\n",
              "            </style>\n",
              "            "
            ]
          },
          "metadata": {}
        }
      ]
    },
    {
      "cell_type": "markdown",
      "source": [
        "Carregando a imagem de uso e cobertura do solo - Mapbiomas"
      ],
      "metadata": {
        "id": "hN3XrFYWIYO1"
      }
    },
    {
      "cell_type": "code",
      "source": [
        "mapbiomas = ee.Image(\"projects/mapbiomas-workspace/public/collection_S2_beta/collection_LULC_S2_beta\")"
      ],
      "metadata": {
        "colab": {
          "base_uri": "https://localhost:8080/",
          "height": 17
        },
        "id": "bieCXubPIYlE",
        "outputId": "3976c5d0-f409-453d-fff4-731f385cf29a"
      },
      "execution_count": null,
      "outputs": [
        {
          "output_type": "display_data",
          "data": {
            "text/plain": [
              "<IPython.core.display.HTML object>"
            ],
            "text/html": [
              "\n",
              "            <style>\n",
              "                .geemap-dark {\n",
              "                    --jp-widgets-color: white;\n",
              "                    --jp-widgets-label-color: white;\n",
              "                    --jp-ui-font-color1: white;\n",
              "                    --jp-layout-color2: #454545;\n",
              "                    background-color: #383838;\n",
              "                }\n",
              "                    \n",
              "                .geemap-dark .jupyter-button {\n",
              "                    --jp-layout-color3: #383838;\n",
              "                }\n",
              "                \n",
              "                .geemap-colab {\n",
              "                    background-color: var(--colab-primary-surface-color, white);\n",
              "                }\n",
              "                    \n",
              "                .geemap-colab .jupyter-button {\n",
              "                    --jp-layout-color3: var(--colab-primary-surface-color, white);\n",
              "                }\n",
              "            </style>\n",
              "            "
            ]
          },
          "metadata": {}
        }
      ]
    },
    {
      "cell_type": "markdown",
      "source": [
        "Selecionando região de interesse: **Camaçari**"
      ],
      "metadata": {
        "id": "DciDK6VvKalr"
      }
    },
    {
      "cell_type": "code",
      "source": [
        "Camacari = ee.FeatureCollection('projects/ee-murilloalcosta/assets/Bahia/BA_Municipios_2022').filter(ee.Filter.eq('NM_MUN', 'Camaçari'))"
      ],
      "metadata": {
        "colab": {
          "base_uri": "https://localhost:8080/",
          "height": 17
        },
        "id": "qLTOI7leKaZ3",
        "outputId": "66f06041-932f-486a-82e3-c1efba2d1c6c"
      },
      "execution_count": null,
      "outputs": [
        {
          "output_type": "display_data",
          "data": {
            "text/plain": [
              "<IPython.core.display.HTML object>"
            ],
            "text/html": [
              "\n",
              "            <style>\n",
              "                .geemap-dark {\n",
              "                    --jp-widgets-color: white;\n",
              "                    --jp-widgets-label-color: white;\n",
              "                    --jp-ui-font-color1: white;\n",
              "                    --jp-layout-color2: #454545;\n",
              "                    background-color: #383838;\n",
              "                }\n",
              "                    \n",
              "                .geemap-dark .jupyter-button {\n",
              "                    --jp-layout-color3: #383838;\n",
              "                }\n",
              "                \n",
              "                .geemap-colab {\n",
              "                    background-color: var(--colab-primary-surface-color, white);\n",
              "                }\n",
              "                    \n",
              "                .geemap-colab .jupyter-button {\n",
              "                    --jp-layout-color3: var(--colab-primary-surface-color, white);\n",
              "                }\n",
              "            </style>\n",
              "            "
            ]
          },
          "metadata": {}
        }
      ]
    },
    {
      "cell_type": "markdown",
      "source": [
        "Recortando a camada de classificação a partir da região de interesse"
      ],
      "metadata": {
        "id": "J8fTIfHZLlcW"
      }
    },
    {
      "cell_type": "code",
      "source": [
        "landcover_Camacari = mapbiomas.clip(Camacari)"
      ],
      "metadata": {
        "id": "Ua-lLyfbLl4e",
        "colab": {
          "base_uri": "https://localhost:8080/",
          "height": 17
        },
        "outputId": "88230c3a-fd34-4c84-9c40-1d12c115ff5d"
      },
      "execution_count": null,
      "outputs": [
        {
          "output_type": "display_data",
          "data": {
            "text/plain": [
              "<IPython.core.display.HTML object>"
            ],
            "text/html": [
              "\n",
              "            <style>\n",
              "                .geemap-dark {\n",
              "                    --jp-widgets-color: white;\n",
              "                    --jp-widgets-label-color: white;\n",
              "                    --jp-ui-font-color1: white;\n",
              "                    --jp-layout-color2: #454545;\n",
              "                    background-color: #383838;\n",
              "                }\n",
              "                    \n",
              "                .geemap-dark .jupyter-button {\n",
              "                    --jp-layout-color3: #383838;\n",
              "                }\n",
              "                \n",
              "                .geemap-colab {\n",
              "                    background-color: var(--colab-primary-surface-color, white);\n",
              "                }\n",
              "                    \n",
              "                .geemap-colab .jupyter-button {\n",
              "                    --jp-layout-color3: var(--colab-primary-surface-color, white);\n",
              "                }\n",
              "            </style>\n",
              "            "
            ]
          },
          "metadata": {}
        }
      ]
    },
    {
      "cell_type": "markdown",
      "source": [
        "Selecionando as camadas de classificação de uso da terra e cobertura terrestre para os anos de **2016** a **2022**"
      ],
      "metadata": {
        "id": "gRLXL90fJMlL"
      }
    },
    {
      "cell_type": "code",
      "source": [
        "landcover_Camacari_2016 = landcover_Camacari.select('classification_2016')\n",
        "landcover_Camacari_2017 = landcover_Camacari.select('classification_2017')\n",
        "landcover_Camacari_2018 = landcover_Camacari.select('classification_2018')\n",
        "landcover_Camacari_2019 = landcover_Camacari.select('classification_2019')\n",
        "landcover_Camacari_2020 = landcover_Camacari.select('classification_2020')\n",
        "landcover_Camacari_2021 = landcover_Camacari.select('classification_2021')\n",
        "landcover_Camacari_2022 = landcover_Camacari.select('classification_2022')"
      ],
      "metadata": {
        "colab": {
          "base_uri": "https://localhost:8080/",
          "height": 17
        },
        "id": "0oU3j_r_JMPE",
        "outputId": "c0bf769f-75aa-4ee8-b5ff-88a2d0782c97"
      },
      "execution_count": null,
      "outputs": [
        {
          "output_type": "display_data",
          "data": {
            "text/plain": [
              "<IPython.core.display.HTML object>"
            ],
            "text/html": [
              "\n",
              "            <style>\n",
              "                .geemap-dark {\n",
              "                    --jp-widgets-color: white;\n",
              "                    --jp-widgets-label-color: white;\n",
              "                    --jp-ui-font-color1: white;\n",
              "                    --jp-layout-color2: #454545;\n",
              "                    background-color: #383838;\n",
              "                }\n",
              "                    \n",
              "                .geemap-dark .jupyter-button {\n",
              "                    --jp-layout-color3: #383838;\n",
              "                }\n",
              "                \n",
              "                .geemap-colab {\n",
              "                    background-color: var(--colab-primary-surface-color, white);\n",
              "                }\n",
              "                    \n",
              "                .geemap-colab .jupyter-button {\n",
              "                    --jp-layout-color3: var(--colab-primary-surface-color, white);\n",
              "                }\n",
              "            </style>\n",
              "            "
            ]
          },
          "metadata": {}
        }
      ]
    },
    {
      "cell_type": "markdown",
      "source": [
        "Declarando paleta de cores para visualização"
      ],
      "metadata": {
        "id": "geZ6r5YlNtsM"
      }
    },
    {
      "cell_type": "code",
      "source": [
        "landcover_palette = [\n",
        "    \"#ffffff\", \"#32a65e\", \"#32a65e\", \"#1f8d49\", \"#7dc975\", \"#04381d\", \"#026975\", \"#000000\",\n",
        "    \"#000000\", \"#7a6c00\", \"#ad975a\", \"#519799\", \"#d6bc74\", \"#d89f5c\", \"#FFFFB2\", \"#edde8e\",\n",
        "    \"#000000\", \"#000000\", \"#f5b3c8\", \"#C27BA0\", \"#db7093\", \"#ffefc3\", \"#db4d4f\", \"#ffa07a\",\n",
        "    \"#d4271e\", \"#db4d4f\", \"#0000FF\", \"#000000\", \"#000000\", \"#ffaa5f\", \"#9c0027\", \"#091077\",\n",
        "    \"#fc8114\", \"#2532e4\", \"#93dfe6\", \"#9065d0\", \"#d082de\", \"#000000\", \"#000000\", \"#f5b3c8\",\n",
        "    \"#c71585\", \"#f54ca9\", \"#cca0d4\", \"#dbd26b\", \"#807a40\", \"#e04cfa\", \"#d68fe2\", \"#9932cc\",\n",
        "    \"#e6ccff\", \"#02d659\", \"#ad5100\", \"#000000\", \"#000000\", \"#000000\", \"#000000\", \"#000000\",\n",
        "    \"#000000\", \"#CC66FF\", \"#FF6666\", \"#006400\", \"#8d9e8b\", \"#f5d5d5\", \"#ff69b4\"\n",
        "]\n"
      ],
      "metadata": {
        "id": "G8r09EPlNmU1",
        "colab": {
          "base_uri": "https://localhost:8080/",
          "height": 17
        },
        "outputId": "dcafdfad-331d-4764-e3ca-c14abcaf96e4"
      },
      "execution_count": null,
      "outputs": [
        {
          "output_type": "display_data",
          "data": {
            "text/plain": [
              "<IPython.core.display.HTML object>"
            ],
            "text/html": [
              "\n",
              "            <style>\n",
              "                .geemap-dark {\n",
              "                    --jp-widgets-color: white;\n",
              "                    --jp-widgets-label-color: white;\n",
              "                    --jp-ui-font-color1: white;\n",
              "                    --jp-layout-color2: #454545;\n",
              "                    background-color: #383838;\n",
              "                }\n",
              "                    \n",
              "                .geemap-dark .jupyter-button {\n",
              "                    --jp-layout-color3: #383838;\n",
              "                }\n",
              "                \n",
              "                .geemap-colab {\n",
              "                    background-color: var(--colab-primary-surface-color, white);\n",
              "                }\n",
              "                    \n",
              "                .geemap-colab .jupyter-button {\n",
              "                    --jp-layout-color3: var(--colab-primary-surface-color, white);\n",
              "                }\n",
              "            </style>\n",
              "            "
            ]
          },
          "metadata": {}
        }
      ]
    },
    {
      "cell_type": "markdown",
      "source": [
        "Declarando parâmetros de visualização"
      ],
      "metadata": {
        "id": "QnF8AN64N5Yl"
      }
    },
    {
      "cell_type": "code",
      "source": [
        "vis_params = {\n",
        "    'palette': landcover_palette,\n",
        "    'min': 0,\n",
        "    'max': 62\n",
        "}"
      ],
      "metadata": {
        "id": "5Puz6LWaNzVP",
        "colab": {
          "base_uri": "https://localhost:8080/",
          "height": 17
        },
        "outputId": "08e495e2-3464-4aaf-ef7b-535b789e55f3"
      },
      "execution_count": null,
      "outputs": [
        {
          "output_type": "display_data",
          "data": {
            "text/plain": [
              "<IPython.core.display.HTML object>"
            ],
            "text/html": [
              "\n",
              "            <style>\n",
              "                .geemap-dark {\n",
              "                    --jp-widgets-color: white;\n",
              "                    --jp-widgets-label-color: white;\n",
              "                    --jp-ui-font-color1: white;\n",
              "                    --jp-layout-color2: #454545;\n",
              "                    background-color: #383838;\n",
              "                }\n",
              "                    \n",
              "                .geemap-dark .jupyter-button {\n",
              "                    --jp-layout-color3: #383838;\n",
              "                }\n",
              "                \n",
              "                .geemap-colab {\n",
              "                    background-color: var(--colab-primary-surface-color, white);\n",
              "                }\n",
              "                    \n",
              "                .geemap-colab .jupyter-button {\n",
              "                    --jp-layout-color3: var(--colab-primary-surface-color, white);\n",
              "                }\n",
              "            </style>\n",
              "            "
            ]
          },
          "metadata": {}
        }
      ]
    },
    {
      "cell_type": "markdown",
      "source": [
        "Declarando Mapa e configurando altura de exibição do Mapa (Geemap)"
      ],
      "metadata": {
        "id": "t4hednUWO8d-"
      }
    },
    {
      "cell_type": "code",
      "source": [
        "Map = geemap.Map(height=1000)"
      ],
      "metadata": {
        "id": "t0vD6JlEOziZ",
        "colab": {
          "base_uri": "https://localhost:8080/",
          "height": 17
        },
        "outputId": "1827d71a-94a7-4dea-cf40-4a60628607c5"
      },
      "execution_count": null,
      "outputs": [
        {
          "output_type": "display_data",
          "data": {
            "text/plain": [
              "<IPython.core.display.HTML object>"
            ],
            "text/html": [
              "\n",
              "            <style>\n",
              "                .geemap-dark {\n",
              "                    --jp-widgets-color: white;\n",
              "                    --jp-widgets-label-color: white;\n",
              "                    --jp-ui-font-color1: white;\n",
              "                    --jp-layout-color2: #454545;\n",
              "                    background-color: #383838;\n",
              "                }\n",
              "                    \n",
              "                .geemap-dark .jupyter-button {\n",
              "                    --jp-layout-color3: #383838;\n",
              "                }\n",
              "                \n",
              "                .geemap-colab {\n",
              "                    background-color: var(--colab-primary-surface-color, white);\n",
              "                }\n",
              "                    \n",
              "                .geemap-colab .jupyter-button {\n",
              "                    --jp-layout-color3: var(--colab-primary-surface-color, white);\n",
              "                }\n",
              "            </style>\n",
              "            "
            ]
          },
          "metadata": {}
        }
      ]
    },
    {
      "cell_type": "markdown",
      "source": [
        "Adicionando as camadas ao Mapa e centralizando exibição na área de interesse"
      ],
      "metadata": {
        "id": "oW1t6hSOPZYp"
      }
    },
    {
      "cell_type": "code",
      "source": [
        "Map.addLayer(landcover_Camacari_2016, vis_params, 'Uso do Solo Camaçari - 2016')\n",
        "Map.addLayer(landcover_Camacari_2017, vis_params, 'Uso do Solo Camaçari - 2017')\n",
        "Map.addLayer(landcover_Camacari_2018, vis_params, 'Uso do Solo Camaçari - 2018')\n",
        "Map.addLayer(landcover_Camacari_2019, vis_params, 'Uso do Solo Camaçari - 2019')\n",
        "Map.addLayer(landcover_Camacari_2020, vis_params, 'Uso do Solo Camaçari - 2020')\n",
        "Map.addLayer(landcover_Camacari_2021, vis_params, 'Uso do Solo Camaçari - 2021')\n",
        "Map.addLayer(landcover_Camacari_2022, vis_params, 'Uso do Solo Camaçari - 2022')\n",
        "Map.centerObject(Camacari, 11)"
      ],
      "metadata": {
        "id": "YKXeXYo7PXpc",
        "colab": {
          "base_uri": "https://localhost:8080/",
          "height": 17
        },
        "outputId": "509c6305-af1c-4589-c3db-db2d4b455e83"
      },
      "execution_count": null,
      "outputs": [
        {
          "output_type": "display_data",
          "data": {
            "text/plain": [
              "<IPython.core.display.HTML object>"
            ],
            "text/html": [
              "\n",
              "            <style>\n",
              "                .geemap-dark {\n",
              "                    --jp-widgets-color: white;\n",
              "                    --jp-widgets-label-color: white;\n",
              "                    --jp-ui-font-color1: white;\n",
              "                    --jp-layout-color2: #454545;\n",
              "                    background-color: #383838;\n",
              "                }\n",
              "                    \n",
              "                .geemap-dark .jupyter-button {\n",
              "                    --jp-layout-color3: #383838;\n",
              "                }\n",
              "                \n",
              "                .geemap-colab {\n",
              "                    background-color: var(--colab-primary-surface-color, white);\n",
              "                }\n",
              "                    \n",
              "                .geemap-colab .jupyter-button {\n",
              "                    --jp-layout-color3: var(--colab-primary-surface-color, white);\n",
              "                }\n",
              "            </style>\n",
              "            "
            ]
          },
          "metadata": {}
        }
      ]
    },
    {
      "cell_type": "markdown",
      "source": [
        "Legendas MapBIOMAS\n",
        "\n",
        "cores_hex = [\n",
        "     \"#32a65e\", \"#1f8d49\", \"#7dc975\", \"#04381d\", \"#026975\", \"#02d659\", \"#ad975a\", \"#519799\",\n",
        "     \"#d6bc74\", \"#fc8114\", \"#ffaa5f\", \"#ad5100\", \"#d89f5c\", \"#FFFFB2\", \"#edde8e\", \"#E974ED\",\n",
        "     \"#C27BA0\", \"#f5b3c8\", \"#db7093\", \"#c71585\", \"#ff69b4\", \"#f54ca9\", \"#d082de\", \"#d68fe2\",\n",
        "     \"#9932cc\", \"#9065d0\", \"#e6ccff\", \"#7a5900\", \"#ffefc3\", \"#d4271e\", \"#ffa07a\", \"#d4271e\",\n",
        "     \"#9c0027\", \"#db4d4f\", \"#0000FF\", \"#2532e4\", \"#091077\", \"#ffffff\"\n",
        " ]\n",
        "\n",
        "categorias = [\n",
        "     \"Floresta\", \"Formação Florestal\", \"Formação Savânica\", \"Mangue\", \"Floresta Alagável\",\n",
        "     \"Restinga Arbórea\", \"Formação Natural não Florestal\", \"Campo Alagado e Área Pantanosa\",\n",
        "     \"Formação Campestre\", \"Apicum\", \"Afloramento Rochoso\", \"Restinga Herbácea\",\n",
        "     \"Outras Formações não Florestais\", \"Agropecuária\", \"Pastagem\", \"Agricultura\",\n",
        "     \"Lavoura Temporária\", \"Soja\", \"Cana\", \"Arroz\", \"Algodão\", \"Outras Lavouras Temporárias\",\n",
        "     \"Lavoura Perene\", \"Café\", \"Citrus\", \"Dendê\", \"Outras Lavouras Perenes\", \"Silvicultura\",\n",
        "     \"Mosaico de Usos\", \"Área não Vegetada\", \"Praia, Duna e Areal\", \"Área Urbanizada\", \"Mineração\",\n",
        "     \"Outras Áreas não Vegetadas\", \"Corpo D'água\", \"Rio, Lago e Oceano\", \"Aquicultura\", \"Não observado\"\n",
        " ]"
      ],
      "metadata": {
        "id": "T_6Et-HeQuDo"
      }
    },
    {
      "cell_type": "markdown",
      "source": [
        "Declarando listas  de cores e categorias da região de interesse"
      ],
      "metadata": {
        "id": "Mu6QgEf8RQc7"
      }
    },
    {
      "cell_type": "code",
      "source": [
        "cores_hex = [\n",
        "    \"#1f8d49\",\n",
        "    \"#04381d\",\n",
        "    \"#02d659\",\n",
        "    \"#ad5100\",\n",
        "    \"#edde8e\",\n",
        "    \"#7a5900\",\n",
        "    \"#ffefc3\",\n",
        "    \"#ffa07a\",\n",
        "    \"#d4271e\",\n",
        "    \"#db4d4f\",\n",
        "    \"#2532e4\",\n",
        "    \"#519799\"\n",
        "    \"#d89f5c\",\n",
        "]\n",
        "\n",
        "categorias = [\n",
        "   \"Formação Florestal\",\n",
        "   \"Mangue\",\n",
        "   \"Restinga Arbórea\",\n",
        "   \"Restinga Herbácea\",\n",
        "   \"Pastagem\",\n",
        "   \"Silvicultura\",\n",
        "   \"Mosaico de Usos\",\n",
        "   \"Praia, Duna e Areal\",\n",
        "   \"Área Urbanizada\",\n",
        "   \"Outras Áreas não Vegetadas\",\n",
        "   \"Rio, Lago e Oceano\",\n",
        "   \"Campo alagado e área pantanosa\"\n",
        "   \"Outras formações não florestais\"\n",
        "]\n"
      ],
      "metadata": {
        "id": "_V1FpUi3RLS8",
        "colab": {
          "base_uri": "https://localhost:8080/",
          "height": 17
        },
        "outputId": "6c0fb60b-c597-4601-a629-671f9a894163"
      },
      "execution_count": null,
      "outputs": [
        {
          "output_type": "display_data",
          "data": {
            "text/plain": [
              "<IPython.core.display.HTML object>"
            ],
            "text/html": [
              "\n",
              "            <style>\n",
              "                .geemap-dark {\n",
              "                    --jp-widgets-color: white;\n",
              "                    --jp-widgets-label-color: white;\n",
              "                    --jp-ui-font-color1: white;\n",
              "                    --jp-layout-color2: #454545;\n",
              "                    background-color: #383838;\n",
              "                }\n",
              "                    \n",
              "                .geemap-dark .jupyter-button {\n",
              "                    --jp-layout-color3: #383838;\n",
              "                }\n",
              "                \n",
              "                .geemap-colab {\n",
              "                    background-color: var(--colab-primary-surface-color, white);\n",
              "                }\n",
              "                    \n",
              "                .geemap-colab .jupyter-button {\n",
              "                    --jp-layout-color3: var(--colab-primary-surface-color, white);\n",
              "                }\n",
              "            </style>\n",
              "            "
            ]
          },
          "metadata": {}
        }
      ]
    },
    {
      "cell_type": "markdown",
      "source": [
        "Criando dicionário da legenda que será exibida"
      ],
      "metadata": {
        "id": "Pr5keqkPRaUu"
      }
    },
    {
      "cell_type": "code",
      "source": [
        "legend_dictMapBiomas = {}\n",
        "\n",
        "for i in range(len(categorias)):\n",
        "    legend_dictMapBiomas[categorias[i]] = cores_hex[i]"
      ],
      "metadata": {
        "id": "389jcdTLRYA4",
        "colab": {
          "base_uri": "https://localhost:8080/",
          "height": 17
        },
        "outputId": "76a39422-b867-4ce9-f1b4-5cccb8e67b1f"
      },
      "execution_count": null,
      "outputs": [
        {
          "output_type": "display_data",
          "data": {
            "text/plain": [
              "<IPython.core.display.HTML object>"
            ],
            "text/html": [
              "\n",
              "            <style>\n",
              "                .geemap-dark {\n",
              "                    --jp-widgets-color: white;\n",
              "                    --jp-widgets-label-color: white;\n",
              "                    --jp-ui-font-color1: white;\n",
              "                    --jp-layout-color2: #454545;\n",
              "                    background-color: #383838;\n",
              "                }\n",
              "                    \n",
              "                .geemap-dark .jupyter-button {\n",
              "                    --jp-layout-color3: #383838;\n",
              "                }\n",
              "                \n",
              "                .geemap-colab {\n",
              "                    background-color: var(--colab-primary-surface-color, white);\n",
              "                }\n",
              "                    \n",
              "                .geemap-colab .jupyter-button {\n",
              "                    --jp-layout-color3: var(--colab-primary-surface-color, white);\n",
              "                }\n",
              "            </style>\n",
              "            "
            ]
          },
          "metadata": {}
        }
      ]
    },
    {
      "cell_type": "markdown",
      "source": [
        "Declarando estilos da legenda"
      ],
      "metadata": {
        "id": "9DbCT8oJQaTy"
      }
    },
    {
      "cell_type": "code",
      "source": [
        "legend_style = {\n",
        "    'position': 'fixed',\n",
        "    'color': 'rgb(0,0,0)',\n",
        "    'z-index': '9999',\n",
        "    'border': '1px solid rgba(10, 10, 10, 0.5)',\n",
        "    'background-color': 'rgba(240, 240, 240)',\n",
        "    'border-radius': '4px',\n",
        "    'padding': '5px',\n",
        "    'fontSize': '14px',\n",
        "    'bottom': '30px',\n",
        "    'right': '8px',\n",
        "}"
      ],
      "metadata": {
        "id": "7G5yVX79Psb0"
      },
      "execution_count": 1,
      "outputs": []
    },
    {
      "cell_type": "markdown",
      "source": [
        "Criando as legendas e defininindo parâmetros de configurações"
      ],
      "metadata": {
        "id": "qtwx07VaR550"
      }
    },
    {
      "cell_type": "code",
      "source": [
        "legends = geemap.create_legend(\n",
        "    title=\"Classificação de Uso e Ocupação do Solo\",\n",
        "    legend_dict=legend_dictMapBiomas,\n",
        "    draggable=False,\n",
        "    style=legend_style\n",
        ")"
      ],
      "metadata": {
        "id": "Utv2fT8eRtYv",
        "colab": {
          "base_uri": "https://localhost:8080/",
          "height": 17
        },
        "outputId": "7bf551e0-82e4-43f1-fb84-78a03d68fd68"
      },
      "execution_count": null,
      "outputs": [
        {
          "output_type": "display_data",
          "data": {
            "text/plain": [
              "<IPython.core.display.HTML object>"
            ],
            "text/html": [
              "\n",
              "            <style>\n",
              "                .geemap-dark {\n",
              "                    --jp-widgets-color: white;\n",
              "                    --jp-widgets-label-color: white;\n",
              "                    --jp-ui-font-color1: white;\n",
              "                    --jp-layout-color2: #454545;\n",
              "                    background-color: #383838;\n",
              "                }\n",
              "                    \n",
              "                .geemap-dark .jupyter-button {\n",
              "                    --jp-layout-color3: #383838;\n",
              "                }\n",
              "                \n",
              "                .geemap-colab {\n",
              "                    background-color: var(--colab-primary-surface-color, white);\n",
              "                }\n",
              "                    \n",
              "                .geemap-colab .jupyter-button {\n",
              "                    --jp-layout-color3: var(--colab-primary-surface-color, white);\n",
              "                }\n",
              "            </style>\n",
              "            "
            ]
          },
          "metadata": {}
        }
      ]
    },
    {
      "cell_type": "markdown",
      "source": [
        "Adicionando legendas ao mapa"
      ],
      "metadata": {
        "id": "zlXfiiCVF43l"
      }
    },
    {
      "cell_type": "code",
      "source": [
        "Map.add_legend(legends)"
      ],
      "metadata": {
        "colab": {
          "base_uri": "https://localhost:8080/",
          "height": 17
        },
        "id": "GDW8wi4vF9Ib",
        "outputId": "a878dd66-8866-459a-dd4c-1ddc3c5f6d54"
      },
      "execution_count": null,
      "outputs": [
        {
          "output_type": "display_data",
          "data": {
            "text/plain": [
              "<IPython.core.display.HTML object>"
            ],
            "text/html": [
              "\n",
              "            <style>\n",
              "                .geemap-dark {\n",
              "                    --jp-widgets-color: white;\n",
              "                    --jp-widgets-label-color: white;\n",
              "                    --jp-ui-font-color1: white;\n",
              "                    --jp-layout-color2: #454545;\n",
              "                    background-color: #383838;\n",
              "                }\n",
              "                    \n",
              "                .geemap-dark .jupyter-button {\n",
              "                    --jp-layout-color3: #383838;\n",
              "                }\n",
              "                \n",
              "                .geemap-colab {\n",
              "                    background-color: var(--colab-primary-surface-color, white);\n",
              "                }\n",
              "                    \n",
              "                .geemap-colab .jupyter-button {\n",
              "                    --jp-layout-color3: var(--colab-primary-surface-color, white);\n",
              "                }\n",
              "            </style>\n",
              "            "
            ]
          },
          "metadata": {}
        }
      ]
    },
    {
      "cell_type": "markdown",
      "source": [
        "Exibindo Mapa"
      ],
      "metadata": {
        "id": "kSpFgiRfGD4Z"
      }
    },
    {
      "cell_type": "code",
      "source": [
        "Map"
      ],
      "metadata": {
        "id": "SE2BMjkQGC_t"
      },
      "execution_count": null,
      "outputs": []
    },
    {
      "cell_type": "markdown",
      "source": [
        "Função para calcular areas(km²) por classificação do MapBiomas.\n",
        "\n",
        "*retorna uma featureCollection*"
      ],
      "metadata": {
        "id": "QXs5BOnR668j"
      }
    },
    {
      "cell_type": "code",
      "source": [
        "def area_by_classification (image, roi, scale, bestEffort):\n",
        "\n",
        "    pixelArea = ee.Image.pixelArea()\n",
        "    # Reduzindo região de cada grupo (classes) e calculando a soma\n",
        "    areas = pixelArea.addBands(image).reduceRegion(\n",
        "        reducer = ee.Reducer.sum().group(groupField=1, groupName='classification'),\n",
        "        geometry=roi,\n",
        "        scale=scale,\n",
        "        bestEffort=bestEffort\n",
        "    )\n",
        "    # Convertendo resultado em uma lista\n",
        "    areaList = ee.List(areas.get('groups'))\n",
        "\n",
        "    sqm_to_sqkm = ee.Number(1).divide(1000000)\n",
        "    # Convertendo o resultado em FeatureCollection\n",
        "    areas = ee.FeatureCollection(areaList.map(lambda area: ee.Feature(\n",
        "    ee.Geometry.Point([0, 0]),\n",
        "    {\n",
        "        'classification': ee.Dictionary(area).get('classification'),\n",
        "        'area_sqkm': ee.Number(ee.Dictionary(area).get('sum')).multiply(sqm_to_sqkm)\n",
        "    }\n",
        "    )))\n",
        "\n",
        "    return areas"
      ],
      "metadata": {
        "colab": {
          "base_uri": "https://localhost:8080/",
          "height": 17
        },
        "id": "LEn8wEHg6Lu-",
        "outputId": "a7681262-9135-4fed-9109-716b322047cf"
      },
      "execution_count": null,
      "outputs": [
        {
          "output_type": "display_data",
          "data": {
            "text/plain": [
              "<IPython.core.display.HTML object>"
            ],
            "text/html": [
              "\n",
              "            <style>\n",
              "                .geemap-dark {\n",
              "                    --jp-widgets-color: white;\n",
              "                    --jp-widgets-label-color: white;\n",
              "                    --jp-ui-font-color1: white;\n",
              "                    --jp-layout-color2: #454545;\n",
              "                    background-color: #383838;\n",
              "                }\n",
              "                    \n",
              "                .geemap-dark .jupyter-button {\n",
              "                    --jp-layout-color3: #383838;\n",
              "                }\n",
              "                \n",
              "                .geemap-colab {\n",
              "                    background-color: var(--colab-primary-surface-color, white);\n",
              "                }\n",
              "                    \n",
              "                .geemap-colab .jupyter-button {\n",
              "                    --jp-layout-color3: var(--colab-primary-surface-color, white);\n",
              "                }\n",
              "            </style>\n",
              "            "
            ]
          },
          "metadata": {}
        }
      ]
    },
    {
      "cell_type": "markdown",
      "source": [
        "Atribuindo às variáveis os valores calculados de areas por classificação de cada ano"
      ],
      "metadata": {
        "id": "5ER7-9ur7Rc7"
      }
    },
    {
      "cell_type": "code",
      "source": [
        "areas2016 = area_by_classification(landcover_Camacari_2016, Camacari, 100, True)\n",
        "areas2017 = area_by_classification(landcover_Camacari_2017, Camacari, 100, True)\n",
        "areas2018 = area_by_classification(landcover_Camacari_2018, Camacari, 100, True)\n",
        "areas2019 = area_by_classification(landcover_Camacari_2019, Camacari, 100, True)\n",
        "areas2020 = area_by_classification(landcover_Camacari_2020, Camacari, 100, True)\n",
        "areas2021 = area_by_classification(landcover_Camacari_2021, Camacari, 100, True)\n",
        "areas2022 = area_by_classification(landcover_Camacari_2022, Camacari, 100, True)"
      ],
      "metadata": {
        "colab": {
          "base_uri": "https://localhost:8080/",
          "height": 17
        },
        "id": "GDdsfZCz6M_u",
        "outputId": "a11e915c-2360-4f11-b56a-f2ecdd06bea7"
      },
      "execution_count": null,
      "outputs": [
        {
          "output_type": "display_data",
          "data": {
            "text/plain": [
              "<IPython.core.display.HTML object>"
            ],
            "text/html": [
              "\n",
              "            <style>\n",
              "                .geemap-dark {\n",
              "                    --jp-widgets-color: white;\n",
              "                    --jp-widgets-label-color: white;\n",
              "                    --jp-ui-font-color1: white;\n",
              "                    --jp-layout-color2: #454545;\n",
              "                    background-color: #383838;\n",
              "                }\n",
              "                    \n",
              "                .geemap-dark .jupyter-button {\n",
              "                    --jp-layout-color3: #383838;\n",
              "                }\n",
              "                \n",
              "                .geemap-colab {\n",
              "                    background-color: var(--colab-primary-surface-color, white);\n",
              "                }\n",
              "                    \n",
              "                .geemap-colab .jupyter-button {\n",
              "                    --jp-layout-color3: var(--colab-primary-surface-color, white);\n",
              "                }\n",
              "            </style>\n",
              "            "
            ]
          },
          "metadata": {}
        }
      ]
    },
    {
      "cell_type": "markdown",
      "source": [
        "Extraindo informações de classificação e área da coleção e armazenando essas informações em um dataframe"
      ],
      "metadata": {
        "id": "Vi1Xqw8f85Ir"
      }
    },
    {
      "cell_type": "code",
      "source": [
        "def make_df_from_col(areaCollection):\n",
        "    data = areaCollection.getInfo()['features']\n",
        "\n",
        "    classification = [item['properties']['classification'] for item in data]\n",
        "    area_sqkm = [item['properties']['area_sqkm'] for item in data]\n",
        "\n",
        "    df = pd.DataFrame({\n",
        "    'Classification': classification,\n",
        "    'Area (sq km)': area_sqkm\n",
        "    })\n",
        "\n",
        "    return df\n"
      ],
      "metadata": {
        "colab": {
          "base_uri": "https://localhost:8080/",
          "height": 17
        },
        "id": "JbKeuero8lBJ",
        "outputId": "a5110f18-67d4-413a-f240-8ff2afe2cfdf"
      },
      "execution_count": null,
      "outputs": [
        {
          "output_type": "display_data",
          "data": {
            "text/plain": [
              "<IPython.core.display.HTML object>"
            ],
            "text/html": [
              "\n",
              "            <style>\n",
              "                .geemap-dark {\n",
              "                    --jp-widgets-color: white;\n",
              "                    --jp-widgets-label-color: white;\n",
              "                    --jp-ui-font-color1: white;\n",
              "                    --jp-layout-color2: #454545;\n",
              "                    background-color: #383838;\n",
              "                }\n",
              "                    \n",
              "                .geemap-dark .jupyter-button {\n",
              "                    --jp-layout-color3: #383838;\n",
              "                }\n",
              "                \n",
              "                .geemap-colab {\n",
              "                    background-color: var(--colab-primary-surface-color, white);\n",
              "                }\n",
              "                    \n",
              "                .geemap-colab .jupyter-button {\n",
              "                    --jp-layout-color3: var(--colab-primary-surface-color, white);\n",
              "                }\n",
              "            </style>\n",
              "            "
            ]
          },
          "metadata": {}
        }
      ]
    },
    {
      "cell_type": "markdown",
      "source": [
        "Atribuindo dataframes às variáveis correspondentes"
      ],
      "metadata": {
        "id": "eYZYxn4o-Tjy"
      }
    },
    {
      "cell_type": "code",
      "source": [
        "df2016 = make_df_from_col(areas2016)\n",
        "df2017 = make_df_from_col(areas2017)\n",
        "df2018 = make_df_from_col(areas2018)\n",
        "df2019 = make_df_from_col(areas2019)\n",
        "df2020 = make_df_from_col(areas2020)\n",
        "df2021 = make_df_from_col(areas2021)\n",
        "df2022 = make_df_from_col(areas2022)"
      ],
      "metadata": {
        "colab": {
          "base_uri": "https://localhost:8080/",
          "height": 17
        },
        "id": "n4z-FX0Q-bw0",
        "outputId": "35c354a7-e9a7-42b7-e762-ea678251ca7f"
      },
      "execution_count": null,
      "outputs": [
        {
          "output_type": "display_data",
          "data": {
            "text/plain": [
              "<IPython.core.display.HTML object>"
            ],
            "text/html": [
              "\n",
              "            <style>\n",
              "                .geemap-dark {\n",
              "                    --jp-widgets-color: white;\n",
              "                    --jp-widgets-label-color: white;\n",
              "                    --jp-ui-font-color1: white;\n",
              "                    --jp-layout-color2: #454545;\n",
              "                    background-color: #383838;\n",
              "                }\n",
              "                    \n",
              "                .geemap-dark .jupyter-button {\n",
              "                    --jp-layout-color3: #383838;\n",
              "                }\n",
              "                \n",
              "                .geemap-colab {\n",
              "                    background-color: var(--colab-primary-surface-color, white);\n",
              "                }\n",
              "                    \n",
              "                .geemap-colab .jupyter-button {\n",
              "                    --jp-layout-color3: var(--colab-primary-surface-color, white);\n",
              "                }\n",
              "            </style>\n",
              "            "
            ]
          },
          "metadata": {}
        }
      ]
    },
    {
      "cell_type": "markdown",
      "source": [
        "Criando dicionário de classes para exibição no Mapa"
      ],
      "metadata": {
        "id": "7UaVdJT6hsIF"
      }
    },
    {
      "cell_type": "code",
      "source": [
        "dicionario_classes = {\n",
        "    0:\"Fora da área de interesse\", 1:\"Floresta\", 3:\"Formação Florestal\",\n",
        "    4:\"Formação Savânica\", 5:\"Mangue\", 49:\"Restinga Arborizada\",  10:\"Formação Natural não Florestal\",\n",
        "    11:\"Campo Alagado e Área Pantanosa\",   12:\"Formação Campestre\",\n",
        "    32:\"Apicum\",   29:\"Afloramento Rochoso\",   50:\"Restinga Herbácea\",\n",
        "    13:\"Outras Formações não Florestais\",  14:\"Agropecuária\",\n",
        "    15:\"Pastagem\",   18:\"Agricultura\",\n",
        "    19:\"Lavoura Temporária\",   39:\"Soja\",\n",
        "    20:\"Cana\",   40:\"Arroz (beta)\",   62:\"Algodão (beta)\",\n",
        "    41:\"Outras Lavouras Temporárias\", 36:\"Lavoura Perene\",  46:\"Café\",\n",
        "    47:\"Citrus\",  48:\"Outras Lavouras Perenes\",  9:\"Silvicultura\",\n",
        "    21:\"Mosaico de Usos\",  22:\"Área não Vegetada\",  23:\"Praia, Duna e Areal\",\n",
        "    24:\"Área Urbanizada\",  30:\"Mineração\", 25:\"Outras Áreas não Vegetadas\",\n",
        "    26:\"Corpo D'água\", 33:\"Rio, Lago e Oceano\",\n",
        "    31:\"Aquicultura\", 27:\"Não observado\"}"
      ],
      "metadata": {
        "colab": {
          "base_uri": "https://localhost:8080/",
          "height": 17
        },
        "id": "I3cZp6fDeb46",
        "outputId": "5d1bbd48-a2a0-4bcd-85ea-c22605c71cfc"
      },
      "execution_count": null,
      "outputs": [
        {
          "output_type": "display_data",
          "data": {
            "text/plain": [
              "<IPython.core.display.HTML object>"
            ],
            "text/html": [
              "\n",
              "            <style>\n",
              "                .geemap-dark {\n",
              "                    --jp-widgets-color: white;\n",
              "                    --jp-widgets-label-color: white;\n",
              "                    --jp-ui-font-color1: white;\n",
              "                    --jp-layout-color2: #454545;\n",
              "                    background-color: #383838;\n",
              "                }\n",
              "                    \n",
              "                .geemap-dark .jupyter-button {\n",
              "                    --jp-layout-color3: #383838;\n",
              "                }\n",
              "                \n",
              "                .geemap-colab {\n",
              "                    background-color: var(--colab-primary-surface-color, white);\n",
              "                }\n",
              "                    \n",
              "                .geemap-colab .jupyter-button {\n",
              "                    --jp-layout-color3: var(--colab-primary-surface-color, white);\n",
              "                }\n",
              "            </style>\n",
              "            "
            ]
          },
          "metadata": {}
        }
      ]
    },
    {
      "cell_type": "markdown",
      "source": [
        "Função para criar uma coluna rótulo a partir da classificação usando o dicionário de classes"
      ],
      "metadata": {
        "id": "YXFdz6yqiEGy"
      }
    },
    {
      "cell_type": "code",
      "source": [
        "def cria_rotulos (df):\n",
        " df['rotulos'] = df['Classification'].replace(dicionario_classes)\n",
        " return df"
      ],
      "metadata": {
        "colab": {
          "base_uri": "https://localhost:8080/",
          "height": 17
        },
        "id": "ZS9OLTmtiD4a",
        "outputId": "1cc72d9b-6b58-41f2-d3e4-f51fc0c9b2ac"
      },
      "execution_count": null,
      "outputs": [
        {
          "output_type": "display_data",
          "data": {
            "text/plain": [
              "<IPython.core.display.HTML object>"
            ],
            "text/html": [
              "\n",
              "            <style>\n",
              "                .geemap-dark {\n",
              "                    --jp-widgets-color: white;\n",
              "                    --jp-widgets-label-color: white;\n",
              "                    --jp-ui-font-color1: white;\n",
              "                    --jp-layout-color2: #454545;\n",
              "                    background-color: #383838;\n",
              "                }\n",
              "                    \n",
              "                .geemap-dark .jupyter-button {\n",
              "                    --jp-layout-color3: #383838;\n",
              "                }\n",
              "                \n",
              "                .geemap-colab {\n",
              "                    background-color: var(--colab-primary-surface-color, white);\n",
              "                }\n",
              "                    \n",
              "                .geemap-colab .jupyter-button {\n",
              "                    --jp-layout-color3: var(--colab-primary-surface-color, white);\n",
              "                }\n",
              "            </style>\n",
              "            "
            ]
          },
          "metadata": {}
        }
      ]
    },
    {
      "cell_type": "markdown",
      "source": [
        "Atribuindo  dataframes rotulados às variáveis correspondentes\n",
        "\n",
        "\n"
      ],
      "metadata": {
        "id": "MN8WV7wWl2dS"
      }
    },
    {
      "cell_type": "code",
      "source": [
        "df2016_com_rotulos = cria_rotulos(df2016)\n",
        "df2022_com_rotulos = cria_rotulos(df2022)"
      ],
      "metadata": {
        "colab": {
          "base_uri": "https://localhost:8080/",
          "height": 17
        },
        "id": "rKiRllgoi5Mb",
        "outputId": "414fd8e5-479d-4a77-fa2b-4da1406cd832"
      },
      "execution_count": null,
      "outputs": [
        {
          "output_type": "display_data",
          "data": {
            "text/plain": [
              "<IPython.core.display.HTML object>"
            ],
            "text/html": [
              "\n",
              "            <style>\n",
              "                .geemap-dark {\n",
              "                    --jp-widgets-color: white;\n",
              "                    --jp-widgets-label-color: white;\n",
              "                    --jp-ui-font-color1: white;\n",
              "                    --jp-layout-color2: #454545;\n",
              "                    background-color: #383838;\n",
              "                }\n",
              "                    \n",
              "                .geemap-dark .jupyter-button {\n",
              "                    --jp-layout-color3: #383838;\n",
              "                }\n",
              "                \n",
              "                .geemap-colab {\n",
              "                    background-color: var(--colab-primary-surface-color, white);\n",
              "                }\n",
              "                    \n",
              "                .geemap-colab .jupyter-button {\n",
              "                    --jp-layout-color3: var(--colab-primary-surface-color, white);\n",
              "                }\n",
              "            </style>\n",
              "            "
            ]
          },
          "metadata": {}
        }
      ]
    },
    {
      "cell_type": "markdown",
      "source": [
        "Declarando dicionário com classes e cores correspondentes (MapBiomas)"
      ],
      "metadata": {
        "id": "CZfHQQmtmUF8"
      }
    },
    {
      "cell_type": "code",
      "source": [
        "dicionario_classes_cores = {'Floresta': '#32a65e',\n",
        " 'Formação Florestal': '#1f8d49',\n",
        " 'Formação Savânica': '#7dc975',\n",
        " 'Mangue': '#04381d',\n",
        " 'Floresta Alagável': '#026975',\n",
        " 'Restinga Arborizada': '#02d659',\n",
        " 'Formação Natural não Florestal': '#ad975a',\n",
        " 'Campo Alagado e Área Pantanosa': '#519799',\n",
        " 'Formação Campestre': '#d6bc74',\n",
        " 'Apicum': '#fc8114',\n",
        " 'Afloramento Rochoso': '#ffaa5f',\n",
        " 'Restinga Herbácea': '#ad5100',\n",
        " 'Outras Formações não Florestais': '#d89f5c',\n",
        " 'Agropecuária': '#FFFFB2',\n",
        " 'Pastagem': '#edde8e',\n",
        " 'Agricultura': '#E974ED',\n",
        " 'Lavoura Temporária': '#C27BA0',\n",
        " 'Soja': '#f5b3c8',\n",
        " 'Cana': '#db7093',\n",
        " 'Arroz': '#c71585',\n",
        " 'Algodão': '#ff69b4',\n",
        " 'Outras Lavouras Temporárias': '#f54ca9',\n",
        " 'Lavoura Perene': '#d082de',\n",
        " 'Café': '#d68fe2',\n",
        " 'Citrus': '#9932cc',\n",
        " 'Dendê': '#9065d0',\n",
        " 'Outras Lavouras Perenes': '#e6ccff',\n",
        " 'Silvicultura': '#7a5900',\n",
        " 'Mosaico de Usos': '#ffefc3',\n",
        " 'Área não Vegetada': '#d4271e',\n",
        " 'Praia, Duna e Areal': '#ffa07a',\n",
        " 'Área Urbanizada': '#d4271e',\n",
        " 'Mineração': '#9c0027',\n",
        " 'Outras Áreas não Vegetadas': '#db4d4f',\n",
        " \"Corpo D'água\": '#0000FF',\n",
        " 'Rio, Lago e Oceano': '#2532e4',\n",
        " 'Aquicultura': '#091077',\n",
        " 'Não observado': '#ffffff',\n",
        " 'Fora da área de interesse': '#ffffff'}"
      ],
      "metadata": {
        "colab": {
          "base_uri": "https://localhost:8080/",
          "height": 17
        },
        "id": "cJ8tQd9IlS9M",
        "outputId": "6fd91f6a-8246-4b55-8edb-f7508f14ba55"
      },
      "execution_count": null,
      "outputs": [
        {
          "output_type": "display_data",
          "data": {
            "text/plain": [
              "<IPython.core.display.HTML object>"
            ],
            "text/html": [
              "\n",
              "            <style>\n",
              "                .geemap-dark {\n",
              "                    --jp-widgets-color: white;\n",
              "                    --jp-widgets-label-color: white;\n",
              "                    --jp-ui-font-color1: white;\n",
              "                    --jp-layout-color2: #454545;\n",
              "                    background-color: #383838;\n",
              "                }\n",
              "                    \n",
              "                .geemap-dark .jupyter-button {\n",
              "                    --jp-layout-color3: #383838;\n",
              "                }\n",
              "                \n",
              "                .geemap-colab {\n",
              "                    background-color: var(--colab-primary-surface-color, white);\n",
              "                }\n",
              "                    \n",
              "                .geemap-colab .jupyter-button {\n",
              "                    --jp-layout-color3: var(--colab-primary-surface-color, white);\n",
              "                }\n",
              "            </style>\n",
              "            "
            ]
          },
          "metadata": {}
        }
      ]
    },
    {
      "cell_type": "markdown",
      "source": [
        "Função para plotagem do gráfico\n"
      ],
      "metadata": {
        "id": "j1kegg-tmbCY"
      }
    },
    {
      "cell_type": "code",
      "source": [
        "def plota_grafico(df, legend_dict, year):\n",
        "   # Agrupando por rótulos e somando as áreas\n",
        "    summed_areas = df.groupby('rotulos')['Area (sq km)'].sum()\n",
        "\n",
        "    # Calculando a área total\n",
        "    total_area = summed_areas.sum()\n",
        "\n",
        "    # Calculando as porcentagens relativas à área total\n",
        "    percentages = (summed_areas / total_area) * 100\n",
        "\n",
        "    # Filtrando os rótulos cujas porcentagens são maiores ou iguais a 0.009%\n",
        "    filtered_percentages = percentages[percentages >= 0.009]\n",
        "\n",
        "    # Ordenando os valores para melhor visualização\n",
        "    filtered_percentages = filtered_percentages.sort_values(ascending=False)\n",
        "\n",
        "    # Criando lista de cores baseada na ordem dos rótulos\n",
        "    colors = [legend_dict[label] for label in filtered_percentages.index]\n",
        "\n",
        "    # Criando o gráfico de barras verticais com as cores definidas\n",
        "    plt.figure(figsize=(12, 8))\n",
        "    bars = plt.bar(filtered_percentages.index, filtered_percentages.values, color=colors)\n",
        "\n",
        "    # Adicionando rótulos de dados em cada barra\n",
        "    for bar in bars:\n",
        "        yval = bar.get_height()\n",
        "        plt.text(bar.get_x() + bar.get_width() / 2, yval + 0.5, f'{yval:.2f}%', ha='center', va='bottom')\n",
        "\n",
        "    plt.xticks(rotation=45, ha='right')\n",
        "    plt.ylabel('Porcentagem da Área Total')\n",
        "    plt.xlabel('Rótulos de Classificação')\n",
        "    plt.title(f'Área Total por Classificação do MapBiomas - {year}')\n",
        "    plt.tight_layout()\n",
        "\n",
        "    return plt.show()"
      ],
      "metadata": {
        "colab": {
          "base_uri": "https://localhost:8080/",
          "height": 17
        },
        "id": "8eq0UNRVnlAw",
        "outputId": "d30096a1-c90c-4efd-ae3d-702fa8e84d8d"
      },
      "execution_count": null,
      "outputs": [
        {
          "output_type": "display_data",
          "data": {
            "text/plain": [
              "<IPython.core.display.HTML object>"
            ],
            "text/html": [
              "\n",
              "            <style>\n",
              "                .geemap-dark {\n",
              "                    --jp-widgets-color: white;\n",
              "                    --jp-widgets-label-color: white;\n",
              "                    --jp-ui-font-color1: white;\n",
              "                    --jp-layout-color2: #454545;\n",
              "                    background-color: #383838;\n",
              "                }\n",
              "                    \n",
              "                .geemap-dark .jupyter-button {\n",
              "                    --jp-layout-color3: #383838;\n",
              "                }\n",
              "                \n",
              "                .geemap-colab {\n",
              "                    background-color: var(--colab-primary-surface-color, white);\n",
              "                }\n",
              "                    \n",
              "                .geemap-colab .jupyter-button {\n",
              "                    --jp-layout-color3: var(--colab-primary-surface-color, white);\n",
              "                }\n",
              "            </style>\n",
              "            "
            ]
          },
          "metadata": {}
        }
      ]
    },
    {
      "cell_type": "markdown",
      "source": [
        "Plotando gráfico do dataframe relativo ao ano 2016"
      ],
      "metadata": {
        "id": "c1YiZhjbD7jn"
      }
    },
    {
      "cell_type": "code",
      "source": [
        "plota_grafico(df2016_com_rotulos, dicionario_classes_cores, 2016)"
      ],
      "metadata": {
        "id": "KaAFusPOk1MJ"
      },
      "execution_count": null,
      "outputs": []
    },
    {
      "cell_type": "markdown",
      "source": [
        "Plotando gráfico do dataframe relativo ao ano 2022"
      ],
      "metadata": {
        "id": "wEdhRCTjECEQ"
      }
    },
    {
      "cell_type": "code",
      "source": [
        "plota_grafico(df2022_com_rotulos, dicionario_classes_cores, 2022)"
      ],
      "metadata": {
        "id": "ciHcVxMTlkSK"
      },
      "execution_count": null,
      "outputs": []
    },
    {
      "cell_type": "markdown",
      "source": [
        "Exportando dados em CSV"
      ],
      "metadata": {
        "id": "b9guCxTDD1kM"
      }
    },
    {
      "cell_type": "code",
      "source": [
        "\n",
        "caminho_arquivo1 = 'landcoverAnalysis2016.csv'\n",
        "caminho_arquivo2 = 'landcoverAnalysis2022.csv'\n",
        "df2016_com_rotulos.to_csv(caminho_arquivo1, index=False)\n",
        "df2022_com_rotulos.to_csv(caminho_arquivo2, index=False)"
      ],
      "metadata": {
        "colab": {
          "base_uri": "https://localhost:8080/",
          "height": 17
        },
        "id": "UYIcV0vMPIzZ",
        "outputId": "fb9c2092-fa71-4707-8b5e-495355d02a51"
      },
      "execution_count": null,
      "outputs": [
        {
          "output_type": "display_data",
          "data": {
            "text/plain": [
              "<IPython.core.display.HTML object>"
            ],
            "text/html": [
              "\n",
              "            <style>\n",
              "                .geemap-dark {\n",
              "                    --jp-widgets-color: white;\n",
              "                    --jp-widgets-label-color: white;\n",
              "                    --jp-ui-font-color1: white;\n",
              "                    --jp-layout-color2: #454545;\n",
              "                    background-color: #383838;\n",
              "                }\n",
              "                    \n",
              "                .geemap-dark .jupyter-button {\n",
              "                    --jp-layout-color3: #383838;\n",
              "                }\n",
              "                \n",
              "                .geemap-colab {\n",
              "                    background-color: var(--colab-primary-surface-color, white);\n",
              "                }\n",
              "                    \n",
              "                .geemap-colab .jupyter-button {\n",
              "                    --jp-layout-color3: var(--colab-primary-surface-color, white);\n",
              "                }\n",
              "            </style>\n",
              "            "
            ]
          },
          "metadata": {}
        }
      ]
    }
  ]
}
